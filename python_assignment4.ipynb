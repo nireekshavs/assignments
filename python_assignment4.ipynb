{
 "cells": [
  {
   "cell_type": "markdown",
   "metadata": {},
   "source": [
    "### 1.1 Write a Python Program(with class concepts) to find the area of the triangle using the below formula.\n",
    "\n",
    "#### area = (s*(s-a)*(s-b)*(s-c)) ** 0.5\n",
    "\n",
    "### Function to take the length of the sides of triangle from user should be defined in the parent class and function to calculate the area should be defined in subclass."
   ]
  },
  {
   "cell_type": "code",
   "execution_count": 1,
   "metadata": {},
   "outputs": [],
   "source": [
    "class Triangle:\n",
    "    def __init__(self,a,b,c):\n",
    "        self.a = a\n",
    "        self.b = b\n",
    "        self.c = c"
   ]
  },
  {
   "cell_type": "code",
   "execution_count": 10,
   "metadata": {},
   "outputs": [],
   "source": [
    "class Area(Triangle):\n",
    "    def __init__(self,a,b,c):\n",
    "        super(Area,self).__init__(a,b,c)\n",
    "    def get_area(self):\n",
    "        #logic to calculate semi-perimeter \n",
    "        s = (self.a + self.b + self.c)/2\n",
    "        area = (s*(s-self.a)*(s-self.b)*(s-self.c)) ** 0.5\n",
    "        return area"
   ]
  },
  {
   "cell_type": "code",
   "execution_count": 12,
   "metadata": {},
   "outputs": [
    {
     "name": "stdout",
     "output_type": "stream",
     "text": [
      "Area is:  6.0\n"
     ]
    }
   ],
   "source": [
    "tri_obj = Area(3,4,5)\n",
    "result = tri_obj.get_area()\n",
    "print(\"Area is: \",result)"
   ]
  },
  {
   "cell_type": "markdown",
   "metadata": {},
   "source": [
    "### 1.2 Write a function filter_long_words() that takes a list of words and an integer n and returns\n",
    "### the list of words that are longer than n."
   ]
  },
  {
   "cell_type": "code",
   "execution_count": 4,
   "metadata": {},
   "outputs": [
    {
     "name": "stdout",
     "output_type": "stream",
     "text": [
      "['apple', 'cheese']\n"
     ]
    }
   ],
   "source": [
    "def filter_long_words(inp,n):\n",
    "    a=[]\n",
    "    for i in inp:\n",
    "        if len(i) > n:\n",
    "            a.append(i)\n",
    "    return a\n",
    "\n",
    "res = filter_long_words([\"apple\",\"ball\",\"cat\",\"cheese\"],4)\n",
    "print(res)"
   ]
  },
  {
   "cell_type": "markdown",
   "metadata": {},
   "source": [
    "### 2.1 Write a Python program using function concept that maps list of words into a list of integers\n",
    "### representing the lengths of the corresponding words.\n",
    "##### Hint: If a list [ ab,cde,erty] is passed on to the python function output should come as [2,3,4]\n",
    "Here 2,3 and 4 are the lengths of the words in the list."
   ]
  },
  {
   "cell_type": "code",
   "execution_count": 13,
   "metadata": {},
   "outputs": [
    {
     "name": "stdout",
     "output_type": "stream",
     "text": [
      "Length of lists are: [5, 4]\n"
     ]
    }
   ],
   "source": [
    "def word_map(inp):\n",
    "    a = list(map(lambda x:len(x),inp))\n",
    "    return a\n",
    "\n",
    "res1 = word_map([\"apple\",\"ball\"])\n",
    "print(\"Length of lists are: \"+str(res1))"
   ]
  },
  {
   "cell_type": "markdown",
   "metadata": {},
   "source": [
    "### 2.2 Write a Python function which takes a character (i.e. a string of length 1) and returns True if\n",
    "### it is a vowel, False otherwise."
   ]
  },
  {
   "cell_type": "code",
   "execution_count": 14,
   "metadata": {},
   "outputs": [
    {
     "name": "stdout",
     "output_type": "stream",
     "text": [
      "Enter a character: a\n",
      "It's s vowel\n"
     ]
    }
   ],
   "source": [
    "def vowel_check(char1):\n",
    "    if len(char1) == 1 and char1 in \"aeiou\":\n",
    "        return True\n",
    "    else:\n",
    "        return False\n",
    "\n",
    "user_input=input(\"Enter a character: \")\n",
    "\n",
    "if vowel_check(user_input):\n",
    "    print(\"It's s vowel\")\n",
    "else:\n",
    "    print(\"Not an vowel\")"
   ]
  },
  {
   "cell_type": "code",
   "execution_count": null,
   "metadata": {},
   "outputs": [],
   "source": []
  }
 ],
 "metadata": {
  "kernelspec": {
   "display_name": "Python 3",
   "language": "python",
   "name": "python3"
  },
  "language_info": {
   "codemirror_mode": {
    "name": "ipython",
    "version": 3
   },
   "file_extension": ".py",
   "mimetype": "text/x-python",
   "name": "python",
   "nbconvert_exporter": "python",
   "pygments_lexer": "ipython3",
   "version": "3.7.3"
  }
 },
 "nbformat": 4,
 "nbformat_minor": 2
}
