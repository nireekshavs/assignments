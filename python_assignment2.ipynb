{
 "cells": [
  {
   "cell_type": "markdown",
   "metadata": {},
   "source": [
    "### 1. Create the below pattern using nested for loop in Python.\n",
    "#### *\n",
    "#### * *\n",
    "##### * * *\n",
    "##### * * * *\n",
    "##### * * * * *\n",
    "##### * * * *\n",
    "##### * * *\n",
    "##### * *\n",
    "#### *"
   ]
  },
  {
   "cell_type": "code",
   "execution_count": 3,
   "metadata": {},
   "outputs": [
    {
     "name": "stdout",
     "output_type": "stream",
     "text": [
      " \n",
      "* \n",
      "** \n",
      "*** \n",
      "**** \n",
      "***** \n",
      "***** \n",
      "**** \n",
      "*** \n",
      "** \n",
      "* \n"
     ]
    }
   ],
   "source": [
    "n=5\n",
    "# for increasing pattern\n",
    "for j in range(n): \n",
    "    for k in range(j):\n",
    "        print(\"*\",end=\"\")\n",
    "    print(\" \")\n",
    "# for decreasing pattern\n",
    "for p in range(n,0,-1): \n",
    "    for q in range(p):\n",
    "        print(\"*\",end=\"\")\n",
    "    print(\" \")"
   ]
  },
  {
   "cell_type": "markdown",
   "metadata": {},
   "source": [
    "### 2. Write a Python program to reverse a word after accepting the input from the user.\n",
    "### Sample output\n",
    "#### Input word: ineuron\n",
    "#### Output: norueni"
   ]
  },
  {
   "cell_type": "code",
   "execution_count": 2,
   "metadata": {},
   "outputs": [
    {
     "name": "stdout",
     "output_type": "stream",
     "text": [
      "ineuron\n",
      "norueni\n"
     ]
    }
   ],
   "source": [
    "input_word= input()\n",
    "print(input_word[::-1])"
   ]
  }
 ],
 "metadata": {
  "kernelspec": {
   "display_name": "Python 3",
   "language": "python",
   "name": "python3"
  },
  "language_info": {
   "codemirror_mode": {
    "name": "ipython",
    "version": 3
   },
   "file_extension": ".py",
   "mimetype": "text/x-python",
   "name": "python",
   "nbconvert_exporter": "python",
   "pygments_lexer": "ipython3",
   "version": "3.7.3"
  }
 },
 "nbformat": 4,
 "nbformat_minor": 2
}
